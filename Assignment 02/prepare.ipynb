{
 "cells": [
  {
   "cell_type": "code",
   "execution_count": 1,
   "id": "2008641c-a714-419b-a9d5-d48a42413e8d",
   "metadata": {},
   "outputs": [],
   "source": [
    "# pip install dvc dvc[gdrive] mlflow pandas scikit-learn --q"
   ]
  },
  {
   "cell_type": "markdown",
   "id": "2800d981-f82f-43ff-85e0-c2f543b8746f",
   "metadata": {},
   "source": [
    "## Importing the Library"
   ]
  },
  {
   "cell_type": "code",
   "execution_count": 17,
   "id": "3028a1d8-deee-40c8-ae16-e3576c35d727",
   "metadata": {},
   "outputs": [],
   "source": [
    "import re\n",
    "import nltk\n",
    "import warnings\n",
    "import nltk\n",
    "import string\n",
    "import pandas as pd\n",
    "import seaborn as sns\n",
    "import pandas as pd\n",
    "import numpy as np\n",
    "from collections import Counter\n",
    "import matplotlib.pyplot as plt\n",
    "\n",
    "warnings.filterwarnings('ignore')\n",
    "\n",
    "from nltk.corpus import stopwords\n",
    "from nltk.tokenize import word_tokenize\n",
    "from nltk.stem import WordNetLemmatizer\n",
    "from sklearn.model_selection import train_test_split\n",
    "from sklearn.model_selection import train_test_split\n"
   ]
  },
  {
   "cell_type": "code",
   "execution_count": null,
   "id": "1b291caf-0d2d-465d-aa7b-b9f6569f79a2",
   "metadata": {},
   "outputs": [],
   "source": []
  },
  {
   "cell_type": "code",
   "execution_count": null,
   "id": "2a7d2a91-9497-45ca-b8f2-b2c08fd7350e",
   "metadata": {},
   "outputs": [],
   "source": []
  },
  {
   "cell_type": "markdown",
   "id": "82b5d261-356b-4b81-8f5c-969d7195497e",
   "metadata": {},
   "source": [
    "## Load the data"
   ]
  },
  {
   "cell_type": "code",
   "execution_count": 2,
   "id": "d1269ed6-89cc-47e5-b161-4f9705f7d598",
   "metadata": {},
   "outputs": [
    {
     "data": {
      "text/html": [
       "<div>\n",
       "<style scoped>\n",
       "    .dataframe tbody tr th:only-of-type {\n",
       "        vertical-align: middle;\n",
       "    }\n",
       "\n",
       "    .dataframe tbody tr th {\n",
       "        vertical-align: top;\n",
       "    }\n",
       "\n",
       "    .dataframe thead th {\n",
       "        text-align: right;\n",
       "    }\n",
       "</style>\n",
       "<table border=\"1\" class=\"dataframe\">\n",
       "  <thead>\n",
       "    <tr style=\"text-align: right;\">\n",
       "      <th></th>\n",
       "      <th>labels</th>\n",
       "      <th>Messages</th>\n",
       "    </tr>\n",
       "  </thead>\n",
       "  <tbody>\n",
       "    <tr>\n",
       "      <th>0</th>\n",
       "      <td>ham</td>\n",
       "      <td>Ok lar... Joking wif u oni...</td>\n",
       "    </tr>\n",
       "    <tr>\n",
       "      <th>1</th>\n",
       "      <td>spam</td>\n",
       "      <td>Free entry in 2 a wkly comp to win FA Cup fina...</td>\n",
       "    </tr>\n",
       "    <tr>\n",
       "      <th>2</th>\n",
       "      <td>ham</td>\n",
       "      <td>U dun say so early hor... U c already then say...</td>\n",
       "    </tr>\n",
       "    <tr>\n",
       "      <th>3</th>\n",
       "      <td>ham</td>\n",
       "      <td>Nah I don't think he goes to usf, he lives aro...</td>\n",
       "    </tr>\n",
       "    <tr>\n",
       "      <th>4</th>\n",
       "      <td>spam</td>\n",
       "      <td>FreeMsg Hey there darling it's been 3 week's n...</td>\n",
       "    </tr>\n",
       "    <tr>\n",
       "      <th>...</th>\n",
       "      <td>...</td>\n",
       "      <td>...</td>\n",
       "    </tr>\n",
       "    <tr>\n",
       "      <th>5566</th>\n",
       "      <td>spam</td>\n",
       "      <td>This is the 2nd time we have tried 2 contact u...</td>\n",
       "    </tr>\n",
       "    <tr>\n",
       "      <th>5567</th>\n",
       "      <td>ham</td>\n",
       "      <td>Will ü b going to esplanade fr home?</td>\n",
       "    </tr>\n",
       "    <tr>\n",
       "      <th>5568</th>\n",
       "      <td>ham</td>\n",
       "      <td>Pity, * was in mood for that. So...any other s...</td>\n",
       "    </tr>\n",
       "    <tr>\n",
       "      <th>5569</th>\n",
       "      <td>ham</td>\n",
       "      <td>The guy did some bitching but I acted like i'd...</td>\n",
       "    </tr>\n",
       "    <tr>\n",
       "      <th>5570</th>\n",
       "      <td>ham</td>\n",
       "      <td>Rofl. Its true to its name</td>\n",
       "    </tr>\n",
       "  </tbody>\n",
       "</table>\n",
       "<p>5571 rows × 2 columns</p>\n",
       "</div>"
      ],
      "text/plain": [
       "     labels                                           Messages\n",
       "0       ham                      Ok lar... Joking wif u oni...\n",
       "1      spam  Free entry in 2 a wkly comp to win FA Cup fina...\n",
       "2       ham  U dun say so early hor... U c already then say...\n",
       "3       ham  Nah I don't think he goes to usf, he lives aro...\n",
       "4      spam  FreeMsg Hey there darling it's been 3 week's n...\n",
       "...     ...                                                ...\n",
       "5566   spam  This is the 2nd time we have tried 2 contact u...\n",
       "5567    ham               Will ü b going to esplanade fr home?\n",
       "5568    ham  Pity, * was in mood for that. So...any other s...\n",
       "5569    ham  The guy did some bitching but I acted like i'd...\n",
       "5570    ham                         Rofl. Its true to its name\n",
       "\n",
       "[5571 rows x 2 columns]"
      ]
     },
     "execution_count": 2,
     "metadata": {},
     "output_type": "execute_result"
    }
   ],
   "source": [
    "# Load or create raw data\n",
    "df = pd.read_csv(\"SMSSpamCollection.csv\", delimiter='\\t')\n",
    "df.columns = ['labels', 'Messages']\n",
    "df"
   ]
  },
  {
   "cell_type": "code",
   "execution_count": null,
   "id": "1a0b1b4d-b05c-4cb3-bb54-83ff292aad0c",
   "metadata": {},
   "outputs": [],
   "source": []
  },
  {
   "cell_type": "code",
   "execution_count": null,
   "id": "913be067-9b2d-474b-a886-54e386de7b79",
   "metadata": {},
   "outputs": [],
   "source": []
  },
  {
   "cell_type": "markdown",
   "id": "71735a05-3dc5-4670-a7e5-9c080fc28ae3",
   "metadata": {},
   "source": [
    "## Exploratory data analysis"
   ]
  },
  {
   "cell_type": "code",
   "execution_count": 3,
   "id": "e2f72a60-ae34-4b50-bfb7-5b27e191e0e6",
   "metadata": {},
   "outputs": [
    {
     "data": {
      "text/html": [
       "<div>\n",
       "<style scoped>\n",
       "    .dataframe tbody tr th:only-of-type {\n",
       "        vertical-align: middle;\n",
       "    }\n",
       "\n",
       "    .dataframe tbody tr th {\n",
       "        vertical-align: top;\n",
       "    }\n",
       "\n",
       "    .dataframe thead tr th {\n",
       "        text-align: left;\n",
       "    }\n",
       "\n",
       "    .dataframe thead tr:last-of-type th {\n",
       "        text-align: right;\n",
       "    }\n",
       "</style>\n",
       "<table border=\"1\" class=\"dataframe\">\n",
       "  <thead>\n",
       "    <tr>\n",
       "      <th></th>\n",
       "      <th colspan=\"4\" halign=\"left\">Messages</th>\n",
       "    </tr>\n",
       "    <tr>\n",
       "      <th></th>\n",
       "      <th>count</th>\n",
       "      <th>unique</th>\n",
       "      <th>top</th>\n",
       "      <th>freq</th>\n",
       "    </tr>\n",
       "    <tr>\n",
       "      <th>labels</th>\n",
       "      <th></th>\n",
       "      <th></th>\n",
       "      <th></th>\n",
       "      <th></th>\n",
       "    </tr>\n",
       "  </thead>\n",
       "  <tbody>\n",
       "    <tr>\n",
       "      <th>ham</th>\n",
       "      <td>4824</td>\n",
       "      <td>4515</td>\n",
       "      <td>Sorry, I'll call later</td>\n",
       "      <td>30</td>\n",
       "    </tr>\n",
       "    <tr>\n",
       "      <th>spam</th>\n",
       "      <td>747</td>\n",
       "      <td>653</td>\n",
       "      <td>Please call our customer service representativ...</td>\n",
       "      <td>4</td>\n",
       "    </tr>\n",
       "  </tbody>\n",
       "</table>\n",
       "</div>"
      ],
      "text/plain": [
       "       Messages                                                               \n",
       "          count unique                                                top freq\n",
       "labels                                                                        \n",
       "ham        4824   4515                             Sorry, I'll call later   30\n",
       "spam        747    653  Please call our customer service representativ...    4"
      ]
     },
     "execution_count": 3,
     "metadata": {},
     "output_type": "execute_result"
    }
   ],
   "source": [
    "df.groupby('labels').describe()"
   ]
  },
  {
   "cell_type": "code",
   "execution_count": 4,
   "id": "eb47d936-3074-405d-8e36-02739e77c3a2",
   "metadata": {},
   "outputs": [
    {
     "data": {
      "image/png": "[encoded data removed]",
      "text/plain": [
       "<Figure size 500x500 with 1 Axes>"
      ]
     },
     "metadata": {},
     "output_type": "display_data"
    }
   ],
   "source": [
    "plt.figure(figsize = (5,5))\n",
    "sns.histplot(data = df, x = 'labels', hue='labels', bins = 2)\n",
    "plt.xlabel(\"Email Type\")\n",
    "plt.title(\"Spam VS Non-spam SMS Frequency\")\n",
    "plt.legend([\"Spam\",\"Non-spam\"])\n",
    "plt.show()"
   ]
  },
  {
   "cell_type": "code",
   "execution_count": null,
   "id": "42228c6f-c115-49bf-a7f1-a8bc2e30051b",
   "metadata": {},
   "outputs": [],
   "source": []
  },
  {
   "cell_type": "code",
   "execution_count": 5,
   "id": "8b3d1ab4-b169-426e-88d6-6212f6b6fec9",
   "metadata": {},
   "outputs": [
    {
     "data": {
      "text/plain": [
       "array([<Axes: title={'center': 'ham'}>, <Axes: title={'center': 'spam'}>],\n",
       "      dtype=object)"
      ]
     },
     "execution_count": 5,
     "metadata": {},
     "output_type": "execute_result"
    },
    {
     "data": {
      "image/png": "[encoded data removed]",
      "text/plain": [
       "<Figure size 640x480 with 2 Axes>"
      ]
     },
     "metadata": {},
     "output_type": "display_data"
    }
   ],
   "source": [
    "df['length'] = df['Messages'].apply(len)\n",
    "df.hist(column='length', by='labels', bins = 50)"
   ]
  },
  {
   "cell_type": "code",
   "execution_count": null,
   "id": "3a35fc44-6e00-4afb-b2ea-5f70fe75c50d",
   "metadata": {},
   "outputs": [],
   "source": []
  },
  {
   "cell_type": "code",
   "execution_count": null,
   "id": "3a4da634-060f-4d07-be28-bc558b791171",
   "metadata": {},
   "outputs": [],
   "source": []
  },
  {
   "cell_type": "markdown",
   "id": "11d96958-e3c5-4cce-9269-3de830fac2a5",
   "metadata": {},
   "source": [
    "## Preprocessing the SMS"
   ]
  },
  {
   "cell_type": "code",
   "execution_count": 3,
   "id": "0f356f09-ae5e-4dd1-ab2f-eff39e2936b1",
   "metadata": {},
   "outputs": [],
   "source": [
    "# cleaning the text\n",
    "def preprocess_text(text):\n",
    "    # 1. Case Folding\n",
    "    text = text.lower()\n",
    "\n",
    "    # 2. Remove Punctuation\n",
    "    text = re.sub(r'[^\\w\\s]', '', text)\n",
    "\n",
    "    # 3. Tokenization\n",
    "    tokens = word_tokenize(text)\n",
    "\n",
    "    # 4. Remove Stopwords\n",
    "    stop_words = set(stopwords.words('english'))\n",
    "    tokens = [word for word in tokens if word not in stop_words]\n",
    "\n",
    "    # 5. Remove word of length 1\n",
    "    tokens = [word for word in tokens if len(word) > 1]\n",
    "\n",
    "    # 6. Remove Extra Whitespace and join tokens back to string\n",
    "    cleaned_text = ' '.join(tokens)\n",
    "\n",
    "    return cleaned_text"
   ]
  },
  {
   "cell_type": "code",
   "execution_count": 4,
   "id": "61aa3ee8-d8da-45ab-91c7-bd47a22f2444",
   "metadata": {},
   "outputs": [
    {
     "data": {
      "text/html": [
       "<div>\n",
       "<style scoped>\n",
       "    .dataframe tbody tr th:only-of-type {\n",
       "        vertical-align: middle;\n",
       "    }\n",
       "\n",
       "    .dataframe tbody tr th {\n",
       "        vertical-align: top;\n",
       "    }\n",
       "\n",
       "    .dataframe thead th {\n",
       "        text-align: right;\n",
       "    }\n",
       "</style>\n",
       "<table border=\"1\" class=\"dataframe\">\n",
       "  <thead>\n",
       "    <tr style=\"text-align: right;\">\n",
       "      <th></th>\n",
       "      <th>labels</th>\n",
       "      <th>Messages</th>\n",
       "    </tr>\n",
       "  </thead>\n",
       "  <tbody>\n",
       "    <tr>\n",
       "      <th>0</th>\n",
       "      <td>ham</td>\n",
       "      <td>ok lar joking wif oni</td>\n",
       "    </tr>\n",
       "    <tr>\n",
       "      <th>1</th>\n",
       "      <td>spam</td>\n",
       "      <td>free entry wkly comp win fa cup final tkts 21s...</td>\n",
       "    </tr>\n",
       "    <tr>\n",
       "      <th>2</th>\n",
       "      <td>ham</td>\n",
       "      <td>dun say early hor already say</td>\n",
       "    </tr>\n",
       "    <tr>\n",
       "      <th>3</th>\n",
       "      <td>ham</td>\n",
       "      <td>nah dont think goes usf lives around though</td>\n",
       "    </tr>\n",
       "    <tr>\n",
       "      <th>4</th>\n",
       "      <td>spam</td>\n",
       "      <td>freemsg hey darling weeks word back id like fu...</td>\n",
       "    </tr>\n",
       "  </tbody>\n",
       "</table>\n",
       "</div>"
      ],
      "text/plain": [
       "  labels                                           Messages\n",
       "0    ham                              ok lar joking wif oni\n",
       "1   spam  free entry wkly comp win fa cup final tkts 21s...\n",
       "2    ham                      dun say early hor already say\n",
       "3    ham        nah dont think goes usf lives around though\n",
       "4   spam  freemsg hey darling weeks word back id like fu..."
      ]
     },
     "execution_count": 4,
     "metadata": {},
     "output_type": "execute_result"
    }
   ],
   "source": [
    "# Applying the preprocessing step\n",
    "df['Messages'] = df['Messages'].apply(preprocess_text)\n",
    "df.head()"
   ]
  },
  {
   "cell_type": "code",
   "execution_count": null,
   "id": "a5e725a9-376b-40da-8639-f4552eedc4c3",
   "metadata": {},
   "outputs": [],
   "source": []
  },
  {
   "cell_type": "code",
   "execution_count": null,
   "id": "b60ed238-deb3-4147-891f-74711a88fdfa",
   "metadata": {},
   "outputs": [],
   "source": []
  },
  {
   "cell_type": "markdown",
   "id": "06a41ece-b3e8-4595-b568-94f57171a6a9",
   "metadata": {},
   "source": [
    "## Function to print the distribution of the labels"
   ]
  },
  {
   "cell_type": "code",
   "execution_count": 5,
   "id": "3a02b5f1-ad3f-4fc8-a049-d8a958cf2294",
   "metadata": {},
   "outputs": [],
   "source": [
    "def print_class_counts(train_y, val_y, test_y):\n",
    "    datasets = {\n",
    "        \"Training\": train_y,\n",
    "        \"Validation\": val_y,\n",
    "        \"Testing\": test_y\n",
    "    }\n",
    "\n",
    "    for name, labels in datasets.items():\n",
    "        total = len(labels)\n",
    "        ham_count = np.sum(labels == 'ham')\n",
    "        spam_count = np.sum(labels == 'spam')\n",
    "        \n",
    "        ham_percentage = (ham_count / total) * 100 if total > 0 else 0\n",
    "        spam_percentage = (spam_count / total) * 100 if total > 0 else 0\n",
    "        \n",
    "        print(f\"{name} data:\")\n",
    "        print(f\"Number of 'ham' (0): {ham_count} ({ham_percentage:.2f}%)\")\n",
    "        print(f\"Number of 'spam' (1): {spam_count} ({spam_percentage:.2f}%)\")\n",
    "        print(\"\\n\")\n"
   ]
  },
  {
   "cell_type": "code",
   "execution_count": null,
   "id": "f59e8d1e-cb83-4c1f-b76e-71c1f050b634",
   "metadata": {},
   "outputs": [],
   "source": []
  },
  {
   "cell_type": "code",
   "execution_count": null,
   "id": "2a455d44-e76d-4436-a4ff-876cc98c8786",
   "metadata": {},
   "outputs": [],
   "source": []
  },
  {
   "cell_type": "markdown",
   "id": "a8d82771-7858-4a13-a382-60a80be991bb",
   "metadata": {},
   "source": [
    "# Implementing DVC\n",
    "\n",
    "## Initializing DVC"
   ]
  },
  {
   "cell_type": "code",
   "execution_count": 7,
   "id": "82d6deff-3d42-42a5-ba00-71c6574ea189",
   "metadata": {},
   "outputs": [
    {
     "name": "stdout",
     "output_type": "stream",
     "text": [
      "Initialized empty Git repository in C:/Users/Keshav/Desktop/DS Course/Sem 4/3. AML/Assignment 2/.git/\n",
      "Initialized DVC repository.\n",
      "\n",
      "You can now commit the changes to git.\n",
      "\n",
      "+---------------------------------------------------------------------+\n",
      "|                                                                     |\n",
      "|        DVC has enabled anonymous aggregate usage analytics.         |\n",
      "|     Read the analytics documentation (and how to opt-out) here:     |\n",
      "|             <https://dvc.org/doc/user-guide/analytics>              |\n",
      "|                                                                     |\n",
      "+---------------------------------------------------------------------+\n",
      "\n",
      "What's next?\n",
      "------------\n",
      "- Check out the documentation: <https://dvc.org/doc>\n",
      "- Get help and share ideas: <https://dvc.org/chat>\n",
      "- Star us on GitHub: <https://github.com/iterative/dvc>\n"
     ]
    }
   ],
   "source": [
    "! git init\n",
    "! dvc init"
   ]
  },
  {
   "cell_type": "code",
   "execution_count": null,
   "id": "06c72b0e-ca0f-416c-b081-a6a2ea227550",
   "metadata": {},
   "outputs": [],
   "source": []
  },
  {
   "cell_type": "code",
   "execution_count": null,
   "id": "93ce0e19-344a-45e0-a3f1-453fcc823409",
   "metadata": {},
   "outputs": [],
   "source": []
  },
  {
   "cell_type": "markdown",
   "id": "93a54d29-cb7d-4bf1-a406-b145e32f7bea",
   "metadata": {},
   "source": [
    "## Setting up remote storage"
   ]
  },
  {
   "cell_type": "code",
   "execution_count": 17,
   "id": "62fb7b95-1a8f-4274-9d9a-8b2d984057ef",
   "metadata": {},
   "outputs": [
    {
     "name": "stdout",
     "output_type": "stream",
     "text": [
      "Setting 'storage' as a default remote.\n"
     ]
    },
    {
     "name": "stderr",
     "output_type": "stream",
     "text": [
      "ERROR: configuration error - config file error: remote 'storage' already exists. Use `-f|--force` to overwrite it.\n"
     ]
    },
    {
     "name": "stdout",
     "output_type": "stream",
     "text": [
      "On branch main\n",
      "Untracked files:\n",
      "  (use \"git add <file>...\" to include in what will be committed)\n",
      "\t.ipynb_checkpoints/\n",
      "\tAssignment02.ipynb\n",
      "\tInfo.txt\n",
      "\tdvc.json\n",
      "\ttest.csv\n",
      "\ttrain.csv\n",
      "\tval.csv\n",
      "\n",
      "nothing added to commit but untracked files present (use \"git add\" to track)\n"
     ]
    }
   ],
   "source": [
    "!dvc remote add -d storage gdrive://17__887ib2CmCRl6oUD8sxQ8rAJz6W03-\n",
    "!git status"
   ]
  },
  {
   "cell_type": "code",
   "execution_count": null,
   "id": "a96e0c09-f038-4658-b586-88dc1f3a8593",
   "metadata": {},
   "outputs": [],
   "source": []
  },
  {
   "cell_type": "markdown",
   "id": "5f6f21f5-24bd-4249-b045-886e6646ef43",
   "metadata": {},
   "source": [
    "## Configure DVC to use a Service Account"
   ]
  },
  {
   "cell_type": "code",
   "execution_count": 11,
   "id": "0706b6ce-65da-4d9c-98cc-53d7a687860f",
   "metadata": {},
   "outputs": [],
   "source": [
    "!dvc remote modify storage gdrive_use_service_account true\n",
    "!dvc remote modify storage gdrive_service_account_json_file_path dvc.json"
   ]
  },
  {
   "cell_type": "code",
   "execution_count": null,
   "id": "e27e9558-586e-4d4f-88f3-548d54b4e4e5",
   "metadata": {},
   "outputs": [],
   "source": []
  },
  {
   "cell_type": "code",
   "execution_count": null,
   "id": "ffb1da2b-508b-4804-a2fc-de4513eaf380",
   "metadata": {},
   "outputs": [],
   "source": []
  },
  {
   "cell_type": "markdown",
   "id": "48846a97-1c2f-446d-b49f-4609bcc376f8",
   "metadata": {},
   "source": [
    "## Adding version 1 to DVC for tracking"
   ]
  },
  {
   "cell_type": "code",
   "execution_count": 7,
   "id": "38b08907-e6a8-4122-989e-ae0a457ba4b8",
   "metadata": {},
   "outputs": [
    {
     "name": "stdout",
     "output_type": "stream",
     "text": [
      "Train set: labels\n",
      "ham     3376\n",
      "spam     523\n",
      "Name: count, dtype: int64\n",
      "Validation set: labels\n",
      "ham     730\n",
      "spam    106\n",
      "Name: count, dtype: int64\n",
      "Test set: labels\n",
      "ham     718\n",
      "spam    118\n",
      "Name: count, dtype: int64\n"
     ]
    }
   ],
   "source": [
    "X = df['Messages']\n",
    "y = df['labels']\n",
    "\n",
    "# Initial train-test split\n",
    "X_train, X_temp, y_train, y_temp = train_test_split(X, y, test_size=0.3, stratify=y, random_state=1)\n",
    "\n",
    "# Split the remaining data into validation and test sets\n",
    "X_val, X_test, y_val, y_test = train_test_split(X_temp, y_temp, test_size=0.5, random_state=1)\n",
    "\n",
    "print(f\"Train set: {y_train.value_counts()}\")\n",
    "print(f\"Validation set: {y_val.value_counts()}\")\n",
    "print(f\"Test set: {y_test.value_counts()}\")"
   ]
  },
  {
   "cell_type": "code",
   "execution_count": 8,
   "id": "39fe8792-332d-4984-a532-1c99ee9d396c",
   "metadata": {},
   "outputs": [],
   "source": [
    "train_data = pd.concat([X_train, y_train], axis=1)\n",
    "train_data.to_csv('train.csv', index=False)\n",
    "\n",
    "test_data = pd.concat([X_test, y_test], axis=1)\n",
    "test_data.to_csv('test.csv', index=False)\n",
    "\n",
    "val_data = pd.concat([X_val, y_val], axis=1)\n",
    "val_data.to_csv('val.csv', index=False)"
   ]
  },
  {
   "cell_type": "markdown",
   "id": "65d54900-e4aa-4462-8d0e-125a861dfc57",
   "metadata": {},
   "source": [
    "### Distribution of the splitted data with random seed 1"
   ]
  },
  {
   "cell_type": "code",
   "execution_count": 18,
   "id": "7c18c0d8-9181-44ff-ac0c-02817b5fd975",
   "metadata": {},
   "outputs": [
    {
     "name": "stdout",
     "output_type": "stream",
     "text": [
      "Training data:\n",
      "Number of 'ham' (0): 3376 (86.59%)\n",
      "Number of 'spam' (1): 523 (13.41%)\n",
      "\n",
      "\n",
      "Validation data:\n",
      "Number of 'ham' (0): 730 (87.32%)\n",
      "Number of 'spam' (1): 106 (12.68%)\n",
      "\n",
      "\n",
      "Testing data:\n",
      "Number of 'ham' (0): 718 (85.89%)\n",
      "Number of 'spam' (1): 118 (14.11%)\n",
      "\n",
      "\n"
     ]
    }
   ],
   "source": [
    "train_y = train_data['labels']\n",
    "val_y = val_data['labels']\n",
    "test_y = test_data['labels']\n",
    "print_class_counts(train_y, val_y, test_y)"
   ]
  },
  {
   "cell_type": "code",
   "execution_count": null,
   "id": "e2a51315-b509-45ff-9264-344a9f5acaa2",
   "metadata": {},
   "outputs": [],
   "source": []
  },
  {
   "cell_type": "code",
   "execution_count": null,
   "id": "ba1fcfd1-06b0-4f45-bc38-7edc8c816e8c",
   "metadata": {},
   "outputs": [],
   "source": []
  },
  {
   "cell_type": "markdown",
   "id": "78990475-9251-4bf7-a068-fcc80ec1ad55",
   "metadata": {},
   "source": [
    "### Tracking with DVC"
   ]
  },
  {
   "cell_type": "code",
   "execution_count": 19,
   "id": "1cd737cc-51de-4c95-97de-c29fb5f75ba5",
   "metadata": {},
   "outputs": [
    {
     "name": "stdout",
     "output_type": "stream",
     "text": [
      "\n",
      "To track the changes with git, run:\n",
      "\n",
      "\tgit add val.csv.dvc train.csv.dvc SMSSpamCollection.csv.dvc test.csv.dvc\n",
      "\n",
      "To enable auto staging, run:\n",
      "\n",
      "\tdvc config core.autostage true\n"
     ]
    },
    {
     "name": "stderr",
     "output_type": "stream",
     "text": [
      "\\u280b Checking graph\n",
      "\n"
     ]
    }
   ],
   "source": [
    "!dvc add SMSSpamCollection.csv train.csv test.csv val.csv"
   ]
  },
  {
   "cell_type": "code",
   "execution_count": 20,
   "id": "d9ffe054-5bd8-47e6-97fd-aafee8ded9b6",
   "metadata": {},
   "outputs": [
    {
     "name": "stderr",
     "output_type": "stream",
     "text": [
      "The following paths are ignored by one of your .gitignore files:\n",
      "train.csv\n",
      "hint: Use -f if you really want to add them.\n",
      "hint: Disable this message with \"git config advice.addIgnoredFile false\"\n"
     ]
    },
    {
     "name": "stdout",
     "output_type": "stream",
     "text": [
      "On branch Main\n",
      "Changes to be committed:\n",
      "  (use \"git restore --staged <file>...\" to unstage)\n",
      "\tmodified:   test.csv.dvc\n",
      "\tmodified:   val.csv.dvc\n",
      "\n",
      "Changes not staged for commit:\n",
      "  (use \"git add <file>...\" to update what will be committed)\n",
      "  (use \"git restore <file>...\" to discard changes in working directory)\n",
      "\tmodified:   .dvc/config\n",
      "\tmodified:   train.csv.dvc\n",
      "\n",
      "Untracked files:\n",
      "  (use \"git add <file>...\" to include in what will be committed)\n",
      "\t.ipynb_checkpoints/\n",
      "\tAssignment02.ipynb\n",
      "\tInfo.txt\n",
      "\tdvc.json\n",
      "\n",
      "[Main eb56552] Version 1 split\n",
      " 2 files changed, 4 insertions(+), 4 deletions(-)\n"
     ]
    }
   ],
   "source": [
    "# !git add train.csv.dvc test.csv.dvc .gitignore val.csv.dvc\n",
    "!git add SMSSpamCollection.csv.dvc train.csv val.csv.dvc test.csv.dvc .gitignore\n",
    "!git status\n",
    "!git commit -m \"Version 1 split\""
   ]
  },
  {
   "cell_type": "code",
   "execution_count": 21,
   "id": "69b2b1dc-e965-47bf-a13a-cadd9a482f48",
   "metadata": {},
   "outputs": [
    {
     "name": "stdout",
     "output_type": "stream",
     "text": [
      "4 files pushed\n"
     ]
    }
   ],
   "source": [
    "!dvc push"
   ]
  },
  {
   "cell_type": "code",
   "execution_count": null,
   "id": "d55e98b5-65b4-4ead-b75e-d8acd74a945c",
   "metadata": {},
   "outputs": [],
   "source": []
  },
  {
   "cell_type": "code",
   "execution_count": null,
   "id": "43c410cd-8ae6-4db1-9caf-64b4a118638f",
   "metadata": {},
   "outputs": [],
   "source": []
  },
  {
   "cell_type": "markdown",
   "id": "80ce9190-9724-44ba-a0a4-8f6893d571a7",
   "metadata": {},
   "source": [
    "## Splitting the data version 2\n"
   ]
  },
  {
   "cell_type": "code",
   "execution_count": 24,
   "id": "abd46556-640e-4fa3-b2e2-064e35cb12f6",
   "metadata": {},
   "outputs": [
    {
     "name": "stdout",
     "output_type": "stream",
     "text": [
      "Train set: labels\n",
      "ham     3376\n",
      "spam     523\n",
      "Name: count, dtype: int64\n",
      "Validation set: labels\n",
      "ham     717\n",
      "spam    119\n",
      "Name: count, dtype: int64\n",
      "Test set: labels\n",
      "ham     731\n",
      "spam    105\n",
      "Name: count, dtype: int64\n"
     ]
    }
   ],
   "source": [
    "X = df['Messages']\n",
    "y = df['labels']\n",
    "\n",
    "# Initial train-test split\n",
    "X_train, X_temp, y_train, y_temp = train_test_split(X, y, test_size=0.3, stratify=y, random_state=100)\n",
    "\n",
    "# Split the remaining data into validation and test sets\n",
    "X_val, X_test, y_val, y_test = train_test_split(X_temp, y_temp, test_size=0.5, random_state=100)\n",
    "\n",
    "print(f\"Train set: {y_train.value_counts()}\")\n",
    "print(f\"Validation set: {y_val.value_counts()}\")\n",
    "print(f\"Test set: {y_test.value_counts()}\")"
   ]
  },
  {
   "cell_type": "code",
   "execution_count": null,
   "id": "146e1f00-11b2-4e11-9a3d-fcf57dd702d5",
   "metadata": {},
   "outputs": [],
   "source": []
  },
  {
   "cell_type": "code",
   "execution_count": 25,
   "id": "138b28d8-676d-4a5e-b2ec-1044dbc2116b",
   "metadata": {},
   "outputs": [],
   "source": [
    "train_data = pd.concat([X_train, y_train], axis=1)\n",
    "train_data.to_csv('train.csv', index=False)\n",
    "\n",
    "test_data = pd.concat([X_test, y_test], axis=1)\n",
    "test_data.to_csv('test.csv', index=False)\n",
    "\n",
    "val_data = pd.concat([X_val, y_val], axis=1)\n",
    "val_data.to_csv('val.csv', index=False)"
   ]
  },
  {
   "cell_type": "markdown",
   "id": "7431bc62-5987-43ea-87ec-a1d3ceac9d4a",
   "metadata": {},
   "source": [
    "### Distribution of splitted data with seed 100"
   ]
  },
  {
   "cell_type": "code",
   "execution_count": 26,
   "id": "25246869-4ff5-4d5c-8296-32f4a0eb1716",
   "metadata": {},
   "outputs": [
    {
     "name": "stdout",
     "output_type": "stream",
     "text": [
      "Training data:\n",
      "Number of 'ham' (0): 3376 (86.59%)\n",
      "Number of 'spam' (1): 523 (13.41%)\n",
      "\n",
      "\n",
      "Validation data:\n",
      "Number of 'ham' (0): 717 (85.77%)\n",
      "Number of 'spam' (1): 119 (14.23%)\n",
      "\n",
      "\n",
      "Testing data:\n",
      "Number of 'ham' (0): 731 (87.44%)\n",
      "Number of 'spam' (1): 105 (12.56%)\n",
      "\n",
      "\n"
     ]
    }
   ],
   "source": [
    "train_y = train_data['labels']\n",
    "val_y = val_data['labels']\n",
    "test_y = test_data['labels']\n",
    "print_class_counts(train_y, val_y, test_y)"
   ]
  },
  {
   "cell_type": "code",
   "execution_count": null,
   "id": "9a649f6e-6ba5-427e-9a78-11393afd788b",
   "metadata": {},
   "outputs": [],
   "source": []
  },
  {
   "cell_type": "code",
   "execution_count": null,
   "id": "c3dc4a5e-3e50-4c0c-8ca5-5b469312e5a1",
   "metadata": {},
   "outputs": [],
   "source": []
  },
  {
   "cell_type": "markdown",
   "id": "b4d7f77a-23fc-47f4-afd7-63f5d0ae7d6e",
   "metadata": {},
   "source": [
    "### Trackign with DVC "
   ]
  },
  {
   "cell_type": "code",
   "execution_count": 27,
   "id": "908bf8c2-f02c-4179-9b98-850dff63339d",
   "metadata": {},
   "outputs": [
    {
     "name": "stderr",
     "output_type": "stream",
     "text": [
      "\\u280b Checking graph\n",
      "\n"
     ]
    },
    {
     "name": "stdout",
     "output_type": "stream",
     "text": [
      "\n",
      "To track the changes with git, run:\n",
      "\n",
      "\tgit add train.csv.dvc val.csv.dvc test.csv.dvc\n",
      "\n",
      "To enable auto staging, run:\n",
      "\n",
      "\tdvc config core.autostage true\n"
     ]
    }
   ],
   "source": [
    "!dvc add train.csv test.csv val.csv"
   ]
  },
  {
   "cell_type": "code",
   "execution_count": 28,
   "id": "4e8b1127-81da-454f-b14d-ec20d680ce49",
   "metadata": {},
   "outputs": [
    {
     "name": "stderr",
     "output_type": "stream",
     "text": [
      "The following paths are ignored by one of your .gitignore files:\n",
      "train.csv\n",
      "hint: Use -f if you really want to add them.\n",
      "hint: Disable this message with \"git config advice.addIgnoredFile false\"\n"
     ]
    },
    {
     "name": "stdout",
     "output_type": "stream",
     "text": [
      "On branch Main\n",
      "Changes to be committed:\n",
      "  (use \"git restore --staged <file>...\" to unstage)\n",
      "\tmodified:   test.csv.dvc\n",
      "\tmodified:   val.csv.dvc\n",
      "\n",
      "Changes not staged for commit:\n",
      "  (use \"git add <file>...\" to update what will be committed)\n",
      "  (use \"git restore <file>...\" to discard changes in working directory)\n",
      "\tmodified:   .dvc/config\n",
      "\n",
      "Untracked files:\n",
      "  (use \"git add <file>...\" to include in what will be committed)\n",
      "\t.ipynb_checkpoints/\n",
      "\tAssignment02.ipynb\n",
      "\tInfo.txt\n",
      "\tdvc.json\n",
      "\n",
      "[Main 20265c3] Version 2 split\n",
      " 2 files changed, 4 insertions(+), 4 deletions(-)\n"
     ]
    }
   ],
   "source": [
    "# !git add val.csv.dvc test.csv.dvc train.csv.dvc\n",
    "!git add train.csv val.csv.dvc test.csv.dvc .gitignore\n",
    "! git status\n",
    "!git commit -m \"Version 2 split\""
   ]
  },
  {
   "cell_type": "code",
   "execution_count": 29,
   "id": "06b57cfa-12b3-402d-a28b-7a2602b74b7b",
   "metadata": {},
   "outputs": [
    {
     "name": "stdout",
     "output_type": "stream",
     "text": [
      "3 files pushed\n"
     ]
    }
   ],
   "source": [
    "! dvc push"
   ]
  },
  {
   "cell_type": "code",
   "execution_count": null,
   "id": "33c79f24-7a24-461d-a7d1-1dfc13f844dd",
   "metadata": {},
   "outputs": [],
   "source": []
  },
  {
   "cell_type": "code",
   "execution_count": null,
   "id": "7b08e8d8-2aa1-42a4-9866-33fd07296b40",
   "metadata": {},
   "outputs": [],
   "source": []
  },
  {
   "cell_type": "markdown",
   "id": "9103ccc9-3d8d-435a-849b-75f3f740eae4",
   "metadata": {},
   "source": [
    "## Accessing all data version and printing distribution"
   ]
  },
  {
   "cell_type": "code",
   "execution_count": 39,
   "id": "4ea66f06-0c83-4528-ac90-7bf0cbb10677",
   "metadata": {},
   "outputs": [
    {
     "name": "stdout",
     "output_type": "stream",
     "text": [
      "commit 20265c30157037ef88c63c76afaf741c908fbe9f\n",
      "Author: Big-Marvel <mail.keshev@gmail.com>\n",
      "Date:   Fri Feb 28 19:21:17 2025 +0530\n",
      "\n",
      "    Version 2 split\n",
      "\n",
      "commit eb565527b5a029a3721dfa9113660adf4671a7c1\n",
      "Author: Big-Marvel <mail.keshev@gmail.com>\n",
      "Date:   Fri Feb 28 19:16:05 2025 +0530\n",
      "\n",
      "    Version 1 split\n",
      "\n",
      "commit 285db9afd56e174639164503a0cc671ed4eda8d9\n",
      "Author: Big-Marvel <mail.keshev@gmail.com>\n",
      "Date:   Wed Feb 26 18:06:01 2025 +0530\n",
      "\n",
      "    Version 2 split\n",
      "\n",
      "commit bbc1ee389a0e563dd3d3dd8495e31a3843111470\n",
      "Author: Big-Marvel <mail.keshev@gmail.com>\n",
      "Date:   Wed Feb 26 18:02:35 2025 +0530\n",
      "\n",
      "    Version 1 split\n",
      "\n",
      "commit e3d18ea0b395f19296d7465f4be551ff39ff72c0\n",
      "Author: Big-Marvel <mail.keshev@gmail.com>\n",
      "Date:   Tue Feb 25 19:51:34 2025 +0530\n",
      "\n",
      "    Adding the raw_data.csv\n",
      "\n",
      "commit bc53d3f918c77956b47e055b44ae02f0e009593c\n",
      "Author: Big-Marvel <mail.keshev@gmail.com>\n",
      "Date:   Tue Feb 25 19:51:25 2025 +0530\n",
      "\n",
      "    Track SMSSpamCollection.csv using DVC\n"
     ]
    }
   ],
   "source": [
    "! git log"
   ]
  },
  {
   "cell_type": "code",
   "execution_count": null,
   "id": "7b5867a2-24fd-44f9-81c8-aef375143db4",
   "metadata": {},
   "outputs": [],
   "source": []
  },
  {
   "cell_type": "code",
   "execution_count": null,
   "id": "2606eea8-ca6f-48fc-9413-65e68353e16f",
   "metadata": {},
   "outputs": [],
   "source": []
  },
  {
   "cell_type": "markdown",
   "id": "71f88627-d4e3-4ebb-a76e-a4d2c5319dc8",
   "metadata": {},
   "source": [
    "## Returning to version 1"
   ]
  },
  {
   "cell_type": "code",
   "execution_count": 40,
   "id": "8c8b9e2c-ab17-447f-9da2-64f8d00ed884",
   "metadata": {},
   "outputs": [
    {
     "name": "stderr",
     "output_type": "stream",
     "text": [
      "Updated 2 paths from d94fd8a\n"
     ]
    },
    {
     "name": "stdout",
     "output_type": "stream",
     "text": [
      "M       test.csv\n",
      "M       val.csv\n"
     ]
    }
   ],
   "source": [
    "!git checkout eb565527b5a029a3721dfa9113660adf4671a7c1 train.csv.dvc val.csv.dvc test.csv.dvc\n",
    "!dvc checkout"
   ]
  },
  {
   "cell_type": "code",
   "execution_count": 41,
   "id": "339e00b9-5812-4f45-a651-a5ae5ed7a939",
   "metadata": {},
   "outputs": [],
   "source": [
    "train = pd.read_csv(\"train.csv\")\n",
    "test = pd.read_csv(\"test.csv\")\n",
    "val = pd.read_csv(\"val.csv\")"
   ]
  },
  {
   "cell_type": "code",
   "execution_count": 42,
   "id": "691b3926-6e5e-4eb2-aaa5-1b0ca0a9c811",
   "metadata": {},
   "outputs": [],
   "source": [
    "test_y = test[\"labels\"]\n",
    "train_y = train[\"labels\"]\n",
    "val_y = val[\"labels\"]"
   ]
  },
  {
   "cell_type": "code",
   "execution_count": 43,
   "id": "5fbd1d11-e881-4688-b2f3-90516e9f3036",
   "metadata": {},
   "outputs": [
    {
     "name": "stdout",
     "output_type": "stream",
     "text": [
      "Training data:\n",
      "Number of 'ham' (0): 3376 (86.59%)\n",
      "Number of 'spam' (1): 523 (13.41%)\n",
      "\n",
      "\n",
      "Validation data:\n",
      "Number of 'ham' (0): 730 (87.32%)\n",
      "Number of 'spam' (1): 106 (12.68%)\n",
      "\n",
      "\n",
      "Testing data:\n",
      "Number of 'ham' (0): 718 (85.89%)\n",
      "Number of 'spam' (1): 118 (14.11%)\n",
      "\n",
      "\n"
     ]
    }
   ],
   "source": [
    "import numpy as np\n",
    "print_class_counts(train_y, val_y, test_y)"
   ]
  },
  {
   "cell_type": "code",
   "execution_count": null,
   "id": "0e29919d-0fbd-4dc8-9e2b-433a2941d69f",
   "metadata": {},
   "outputs": [],
   "source": []
  },
  {
   "cell_type": "code",
   "execution_count": null,
   "id": "52296bdd-caa4-4ef8-a5c9-f76f59b5445c",
   "metadata": {},
   "outputs": [],
   "source": []
  },
  {
   "cell_type": "markdown",
   "id": "39a593a6-a537-4912-a1e1-7ef634876313",
   "metadata": {},
   "source": [
    "## Returning to Version 2"
   ]
  },
  {
   "cell_type": "code",
   "execution_count": 44,
   "id": "2f83fdfb-7314-490f-b05f-a9ee5628dfa4",
   "metadata": {},
   "outputs": [
    {
     "name": "stderr",
     "output_type": "stream",
     "text": [
      "Updated 2 paths from 2f342fd\n"
     ]
    },
    {
     "name": "stdout",
     "output_type": "stream",
     "text": [
      "M       test.csv\n",
      "M       val.csv\n"
     ]
    }
   ],
   "source": [
    "!git checkout 20265c30157037ef88c63c76afaf741c908fbe9f train.csv.dvc val.csv.dvc test.csv.dvc\n",
    "!dvc checkout"
   ]
  },
  {
   "cell_type": "code",
   "execution_count": 48,
   "id": "890b9918-c5d8-4321-b1f9-1245a210702c",
   "metadata": {},
   "outputs": [],
   "source": [
    "train = pd.read_csv(\"train.csv\")\n",
    "test = pd.read_csv(\"test.csv\")\n",
    "val = pd.read_csv(\"val.csv\")"
   ]
  },
  {
   "cell_type": "code",
   "execution_count": 49,
   "id": "d8d04d0e-12c0-42e2-a7a4-879ee52cc4b8",
   "metadata": {},
   "outputs": [],
   "source": [
    "test_y = test[\"labels\"]\n",
    "train_y = train[\"labels\"]\n",
    "val_y = val[\"labels\"]"
   ]
  },
  {
   "cell_type": "code",
   "execution_count": 50,
   "id": "718e38ea-508c-4faf-884d-1fb648302de9",
   "metadata": {},
   "outputs": [
    {
     "name": "stdout",
     "output_type": "stream",
     "text": [
      "Training data:\n",
      "Number of 'ham' (0): 3376 (86.59%)\n",
      "Number of 'spam' (1): 523 (13.41%)\n",
      "\n",
      "\n",
      "Validation data:\n",
      "Number of 'ham' (0): 717 (85.77%)\n",
      "Number of 'spam' (1): 119 (14.23%)\n",
      "\n",
      "\n",
      "Testing data:\n",
      "Number of 'ham' (0): 731 (87.44%)\n",
      "Number of 'spam' (1): 105 (12.56%)\n",
      "\n",
      "\n"
     ]
    }
   ],
   "source": [
    "print_class_counts(train_y, val_y, test_y)"
   ]
  },
  {
   "cell_type": "code",
   "execution_count": null,
   "id": "831a3229-5582-4461-bff7-c28ecb651055",
   "metadata": {},
   "outputs": [],
   "source": []
  }
 ],
 "metadata": {
  "kernelspec": {
   "display_name": "Python 3 (ipykernel)",
   "language": "python",
   "name": "python3"
  },
  "language_info": {
   "codemirror_mode": {
    "name": "ipython",
    "version": 3
   },
   "file_extension": ".py",
   "mimetype": "text/x-python",
   "name": "python",
   "nbconvert_exporter": "python",
   "pygments_lexer": "ipython3",
   "version": "3.11.4"
  }
 },
 "nbformat": 4,
 "nbformat_minor": 5
}
