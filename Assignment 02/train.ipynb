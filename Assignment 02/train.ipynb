{
 "cells": [
  {
   "cell_type": "markdown",
   "id": "42ca1e02-9d12-448b-97e6-a8556d60827b",
   "metadata": {},
   "source": [
    "## Importing libraries"
   ]
  },
  {
   "cell_type": "code",
   "execution_count": 1,
   "id": "c49757de-362e-420a-b61f-c6575c1fa328",
   "metadata": {},
   "outputs": [],
   "source": [
    "import os\n",
    "import json\n",
    "import mlflow\n",
    "import numpy as np\n",
    "import pandas as pd\n",
    "import scipy.sparse\n",
    "import mlflow.sklearn\n",
    "from xgboost import XGBClassifier\n",
    "from mlflow.tracking import MlflowClient\n",
    "from sklearn.tree import DecisionTreeClassifier\n",
    "from sklearn.linear_model import LogisticRegression\n",
    "from sklearn.feature_extraction.text import TfidfVectorizer\n",
    "\n",
    "from mlflow.models import infer_signature\n",
    "from sklearn.preprocessing import LabelEncoder\n",
    "from sklearn.metrics import accuracy_score, average_precision_score\n",
    "\n",
    "import warnings\n",
    "warnings.filterwarnings('ignore')"
   ]
  },
  {
   "cell_type": "code",
   "execution_count": null,
   "id": "4d664e4e-0122-4390-8baa-01ebd4665c5a",
   "metadata": {},
   "outputs": [],
   "source": []
  },
  {
   "cell_type": "markdown",
   "id": "9a248ae8-ef6f-4e22-98c5-0d6328a3da1e",
   "metadata": {},
   "source": [
    "## Loading the data"
   ]
  },
  {
   "cell_type": "code",
   "execution_count": 2,
   "id": "e5388d0f-065f-4a0e-9bcb-d0bec98c6aba",
   "metadata": {},
   "outputs": [],
   "source": [
    "\n",
    "# Loads and preprocesses train, validation, and test datasets\n",
    "\n",
    "def load_data(train_path, val_path, test_path):\n",
    "    # Load datasets\n",
    "    train = pd.read_csv(train_path)\n",
    "    val = pd.read_csv(val_path)\n",
    "    test = pd.read_csv(test_path)\n",
    "\n",
    "    \n",
    "    # Remove any nan value\n",
    "    X_train = train[\"Messages\"].fillna(\"\")\n",
    "    X_val = val[\"Messages\"].fillna(\"\")\n",
    "    X_test = test[\"Messages\"].fillna(\"\")\n",
    "    \n",
    "    y_train, y_val, y_test = train[\"labels\"].values, val[\"labels\"].values, test[\"labels\"].values\n",
    "\n",
    "    \n",
    "    vectorizer = TfidfVectorizer(strip_accents='unicode')\n",
    "    \n",
    "    # Fit on training data and transform all sets\n",
    "    X_train_vec = vectorizer.fit_transform(X_train.astype(str))\n",
    "    X_val_vec = vectorizer.transform(X_val.astype(str))\n",
    "    X_test_vec = vectorizer.transform(X_test.astype(str))\n",
    "    \n",
    "    encoder = LabelEncoder()\n",
    "    y_train = encoder.fit_transform(y_train)\n",
    "    y_val = encoder.transform(y_val)\n",
    "    y_test = encoder.transform(y_test)\n",
    "\n",
    "    return X_train_vec, X_val_vec, X_test_vec, y_train, y_val, y_test, vectorizer"
   ]
  },
  {
   "cell_type": "code",
   "execution_count": null,
   "id": "02c003ba-3039-4e6d-bf97-75523ed4de05",
   "metadata": {},
   "outputs": [],
   "source": []
  },
  {
   "cell_type": "code",
   "execution_count": 3,
   "id": "d845edc5-ea86-4c2e-8e93-9728b36df26a",
   "metadata": {
    "scrolled": true
   },
   "outputs": [],
   "source": [
    "train_path = r\"C:\\Users\\Keshav\\Desktop\\DS Course\\Sem 4\\3. AML\\Assignment 2\\train.csv\"\n",
    "test_path = r\"C:\\Users\\Keshav\\Desktop\\DS Course\\Sem 4\\3. AML\\Assignment 2\\test.csv\"\n",
    "val_path = r\"C:\\Users\\Keshav\\Desktop\\DS Course\\Sem 4\\3. AML\\Assignment 2\\val.csv\""
   ]
  },
  {
   "cell_type": "code",
   "execution_count": 4,
   "id": "f9329aa2-3291-46b0-a275-05d2fdca5e1e",
   "metadata": {
    "scrolled": true
   },
   "outputs": [],
   "source": [
    "X_train, X_val, X_test, y_train, y_val, y_test, vectorizer = load_data(train_path, test_path, val_path)"
   ]
  },
  {
   "cell_type": "code",
   "execution_count": null,
   "id": "c30a99b0-f4dd-4692-ab27-3a0adaa1c7fd",
   "metadata": {},
   "outputs": [],
   "source": []
  },
  {
   "cell_type": "code",
   "execution_count": null,
   "id": "97242647-8d92-423b-a967-e16fd459fc06",
   "metadata": {},
   "outputs": [],
   "source": []
  },
  {
   "cell_type": "markdown",
   "id": "480c7eef-0c7e-46a2-895f-39e125ff525b",
   "metadata": {},
   "source": [
    "## Defining model dictionary and Metrics"
   ]
  },
  {
   "cell_type": "code",
   "execution_count": 5,
   "id": "c550d5de-6c35-458e-a597-a98949cdb2f7",
   "metadata": {},
   "outputs": [],
   "source": [
    "model_dict = {\n",
    "    \"logistic_regression\": {\n",
    "        \"model\": LogisticRegression,\n",
    "        \"params\": {\n",
    "            \"random_state\": 42,\n",
    "            \"penalty\": \"elasticnet\",\n",
    "            \"solver\": \"saga\",\n",
    "            \"C\": 0.91404735247,\n",
    "            \"l1_ratio\": 0.00282185149,\n",
    "        },\n",
    "    },\n",
    "\n",
    "    \n",
    "    \"decision_tree\": {\n",
    "         \"model\": DecisionTreeClassifier, \n",
    "         \"params\": {}\n",
    "                      \n",
    "    },\n",
    "    \n",
    "    \"xgboost\": {\n",
    "        \"model\": XGBClassifier,\n",
    "        \"params\": {\n",
    "            \"max_depth\": 5,\n",
    "            \"learning_rate\": 0.0980602457,\n",
    "            \"subsample\": 0.585659001039,\n",
    "        },\n",
    "    },\n",
    "}\n",
    "\n",
    "\n",
    "# Define metrics\n",
    "metrics = {\n",
    "    \"accuracy\": accuracy_score,\n",
    "    \"aucpr\": average_precision_score,  # AUCPR for model selection\n",
    "}\n"
   ]
  },
  {
   "cell_type": "code",
   "execution_count": null,
   "id": "f1087c45-8f08-4b5a-9700-5740cb2f9190",
   "metadata": {},
   "outputs": [],
   "source": []
  },
  {
   "cell_type": "markdown",
   "id": "a731b9dd-0510-46a3-b27f-4277e4512884",
   "metadata": {},
   "source": [
    "## Tracking experiment run with mlflow"
   ]
  },
  {
   "cell_type": "code",
   "execution_count": 6,
   "id": "49e908ee-a930-452a-9ee7-1bcbde850c66",
   "metadata": {},
   "outputs": [],
   "source": [
    "\n",
    "def get_model_config(model_name, model_dict):\n",
    "    model_config = model_dict.get(model_name)\n",
    "    if model_config is None:\n",
    "        raise ValueError(f\"Model name '{model_name}' not recognised.\")\n",
    "    return model_config\n",
    "\n",
    "def train_and_evaluate(model_config, model_params, X_train, y_train, X_val, y_val, metrics):\n",
    "    model = model_config[\"model\"](**model_params)\n",
    "    model.fit(X_train, y_train)\n",
    "    y_pred = model.predict(X_val)\n",
    "    \n",
    "    return {\n",
    "        metric_name: metric(y_val, y_pred) for metric_name, metric in metrics.items()\n",
    "    }\n",
    "\n",
    "def log_results(model_name, model_params, model_results):\n",
    "    mlflow.log_params(model_params)\n",
    "    for metric_name, metric_value in model_results.items():\n",
    "        mlflow.log_metric(f\"{model_name}_{metric_name}\", metric_value)\n",
    "\n",
    "def register_model(model_name, model):\n",
    "    client = MlflowClient()\n",
    "    mlflow.sklearn.log_model(model, model_name)\n",
    "    \n",
    "    current_run_id = mlflow.active_run().info.run_id\n",
    "    model_uri = f\"runs:/{current_run_id}/{model_name}\"\n",
    "    \n",
    "    try:\n",
    "        client.create_registered_model(model_name)\n",
    "    except Exception:\n",
    "        print(f\"Model {model_name} already exists in the registry.\")\n",
    "    \n",
    "    model_details = client.create_model_version(model_name, model_uri, current_run_id)\n",
    "    print(f\"=> {model_name} version {model_details.version} has been logged to registry.\")\n",
    "    \n",
    "\n",
    "def track_model(model_name, X_train, y_train, X_val, y_val, params={}, run_name=None, user_params=True, model_dict=model_dict, metrics=metrics):\n",
    "    run_name = run_name or model_name\n",
    "    \n",
    "    with mlflow.start_run(run_name=run_name):\n",
    "        print(f\"Starting run {run_name}\")\n",
    "        \n",
    "        model_config = get_model_config(model_name, model_dict)\n",
    "        print(f\"Model name: {model_name}\")\n",
    "        \n",
    "        model_params = params if user_params else model_config[\"params\"]\n",
    "        print(f\"Model params:{json.dumps(model_params, indent=4)}\")\n",
    "        \n",
    "        model_results = train_and_evaluate(model_config, model_params, X_train, y_train, X_val, y_val, metrics)\n",
    "        print(f\"Model results:\\n{json.dumps(model_results, indent=4)}\")\n",
    "        \n",
    "        log_results(model_name, model_params, model_results)\n",
    "        register_model(model_name, model_config[\"model\"](**model_params))\n",
    "        "
   ]
  },
  {
   "cell_type": "code",
   "execution_count": null,
   "id": "2b924364-f3f1-4464-9f55-4c1b458b0ba5",
   "metadata": {},
   "outputs": [],
   "source": []
  },
  {
   "cell_type": "code",
   "execution_count": 7,
   "id": "50e983f1-8c4c-433c-ae7e-92ee1f7c7dcb",
   "metadata": {},
   "outputs": [
    {
     "name": "stdout",
     "output_type": "stream",
     "text": [
      "Starting run logistic_regression\n",
      "Model name: logistic_regression\n",
      "Model params:{}\n",
      "Model results:\n",
      "{\n",
      "    \"accuracy\": 0.9605263157894737,\n",
      "    \"aucpr\": 0.7241204978047083\n",
      "}\n"
     ]
    },
    {
     "name": "stderr",
     "output_type": "stream",
     "text": [
      "2025/03/05 23:42:27 WARNING mlflow.models.model: Model logged without a signature and input example. Please set `input_example` parameter when logging the model to auto infer the model signature.\n"
     ]
    },
    {
     "name": "stdout",
     "output_type": "stream",
     "text": [
      "=> logistic_regression version 1 has been logged to registry.\n"
     ]
    }
   ],
   "source": [
    "track_model(\"logistic_regression\", X_train, y_train, X_val, y_val)"
   ]
  },
  {
   "cell_type": "code",
   "execution_count": 8,
   "id": "6ec91603-8450-4cf7-b63a-2e13dd80358a",
   "metadata": {},
   "outputs": [
    {
     "name": "stdout",
     "output_type": "stream",
     "text": [
      "Starting run logistic_regression\n",
      "Model name: logistic_regression\n",
      "Model params:{\n",
      "    \"random_state\": 42,\n",
      "    \"penalty\": \"elasticnet\",\n",
      "    \"solver\": \"saga\",\n",
      "    \"C\": 0.91404735247,\n",
      "    \"l1_ratio\": 0.00282185149\n",
      "}\n",
      "Model results:\n",
      "{\n",
      "    \"accuracy\": 0.9605263157894737,\n",
      "    \"aucpr\": 0.7241204978047083\n",
      "}\n"
     ]
    },
    {
     "name": "stderr",
     "output_type": "stream",
     "text": [
      "2025/03/05 23:42:40 WARNING mlflow.models.model: Model logged without a signature and input example. Please set `input_example` parameter when logging the model to auto infer the model signature.\n"
     ]
    },
    {
     "name": "stdout",
     "output_type": "stream",
     "text": [
      "Model logistic_regression already exists in the registry.\n",
      "=> logistic_regression version 2 has been logged to registry.\n"
     ]
    }
   ],
   "source": [
    "track_model(\"logistic_regression\", X_train, y_train, X_val, y_val, user_params=False)"
   ]
  },
  {
   "cell_type": "code",
   "execution_count": null,
   "id": "d646291a-9ab4-4cd5-b68b-d778fa7eb828",
   "metadata": {},
   "outputs": [],
   "source": []
  },
  {
   "cell_type": "code",
   "execution_count": 9,
   "id": "cd8d72a2-3aa8-42de-8b01-6a7709311e75",
   "metadata": {},
   "outputs": [
    {
     "name": "stdout",
     "output_type": "stream",
     "text": [
      "Starting run xgboost\n",
      "Model name: xgboost\n",
      "Model params:{}\n",
      "Model results:\n",
      "{\n",
      "    \"accuracy\": 0.9712918660287081,\n",
      "    \"aucpr\": 0.7975334103283287\n",
      "}\n"
     ]
    },
    {
     "name": "stderr",
     "output_type": "stream",
     "text": [
      "2025/03/05 23:42:50 WARNING mlflow.models.model: Model logged without a signature and input example. Please set `input_example` parameter when logging the model to auto infer the model signature.\n"
     ]
    },
    {
     "name": "stdout",
     "output_type": "stream",
     "text": [
      "=> xgboost version 1 has been logged to registry.\n"
     ]
    }
   ],
   "source": [
    "track_model(\"xgboost\", X_train, y_train, X_val, y_val)"
   ]
  },
  {
   "cell_type": "code",
   "execution_count": 10,
   "id": "1e68aca3-9f3e-4be8-8fc7-81c2fd859c04",
   "metadata": {},
   "outputs": [
    {
     "name": "stdout",
     "output_type": "stream",
     "text": [
      "Starting run xgboost\n",
      "Model name: xgboost\n",
      "Model params:{\n",
      "    \"max_depth\": 5,\n",
      "    \"learning_rate\": 0.0980602457,\n",
      "    \"subsample\": 0.585659001039\n",
      "}\n",
      "Model results:\n",
      "{\n",
      "    \"accuracy\": 0.9641148325358851,\n",
      "    \"aucpr\": 0.7482607554559585\n",
      "}\n"
     ]
    },
    {
     "name": "stderr",
     "output_type": "stream",
     "text": [
      "2025/03/05 23:42:58 WARNING mlflow.models.model: Model logged without a signature and input example. Please set `input_example` parameter when logging the model to auto infer the model signature.\n"
     ]
    },
    {
     "name": "stdout",
     "output_type": "stream",
     "text": [
      "Model xgboost already exists in the registry.\n",
      "=> xgboost version 2 has been logged to registry.\n"
     ]
    }
   ],
   "source": [
    "track_model(\"xgboost\", X_train, y_train, X_val, y_val, user_params=False)"
   ]
  },
  {
   "cell_type": "code",
   "execution_count": null,
   "id": "05164108-95ba-46ba-af4c-829f32836d33",
   "metadata": {},
   "outputs": [],
   "source": []
  },
  {
   "cell_type": "code",
   "execution_count": null,
   "id": "fc49dd53-5349-4003-a5b5-998700d000e9",
   "metadata": {},
   "outputs": [],
   "source": []
  },
  {
   "cell_type": "code",
   "execution_count": 11,
   "id": "2514b5b7-7a91-43c9-bbd0-cf8b837141c1",
   "metadata": {},
   "outputs": [
    {
     "name": "stdout",
     "output_type": "stream",
     "text": [
      "Starting run decision_tree\n",
      "Model name: decision_tree\n",
      "Model params:{}\n",
      "Model results:\n",
      "{\n",
      "    \"accuracy\": 0.9569377990430622,\n",
      "    \"aucpr\": 0.699710690312194\n",
      "}\n"
     ]
    },
    {
     "name": "stderr",
     "output_type": "stream",
     "text": [
      "2025/03/05 23:43:05 WARNING mlflow.models.model: Model logged without a signature and input example. Please set `input_example` parameter when logging the model to auto infer the model signature.\n"
     ]
    },
    {
     "name": "stdout",
     "output_type": "stream",
     "text": [
      "=> decision_tree version 1 has been logged to registry.\n"
     ]
    }
   ],
   "source": [
    "track_model(\"decision_tree\", X_train, y_train, X_val, y_val)"
   ]
  },
  {
   "cell_type": "code",
   "execution_count": 12,
   "id": "56af4129-3c9e-4009-b11d-c50f076860a1",
   "metadata": {},
   "outputs": [
    {
     "name": "stdout",
     "output_type": "stream",
     "text": [
      "Starting run decision_tree\n",
      "Model name: decision_tree\n",
      "Model params:{}\n",
      "Model results:\n",
      "{\n",
      "    \"accuracy\": 0.9605263157894737,\n",
      "    \"aucpr\": 0.7242894470218098\n",
      "}\n"
     ]
    },
    {
     "name": "stderr",
     "output_type": "stream",
     "text": [
      "2025/03/05 23:43:12 WARNING mlflow.models.model: Model logged without a signature and input example. Please set `input_example` parameter when logging the model to auto infer the model signature.\n"
     ]
    },
    {
     "name": "stdout",
     "output_type": "stream",
     "text": [
      "Model decision_tree already exists in the registry.\n",
      "=> decision_tree version 2 has been logged to registry.\n"
     ]
    }
   ],
   "source": [
    "track_model(\"decision_tree\", X_train, y_train, X_val, y_val, user_params=False)"
   ]
  },
  {
   "cell_type": "code",
   "execution_count": null,
   "id": "33749636-e7ef-4696-9267-6ec1f6ecde6b",
   "metadata": {},
   "outputs": [],
   "source": []
  },
  {
   "cell_type": "code",
   "execution_count": null,
   "id": "cb2bab95-2b77-4dbe-8cc9-5680354740ed",
   "metadata": {},
   "outputs": [],
   "source": []
  }
 ],
 "metadata": {
  "kernelspec": {
   "display_name": "Python 3 (ipykernel)",
   "language": "python",
   "name": "python3"
  },
  "language_info": {
   "codemirror_mode": {
    "name": "ipython",
    "version": 3
   },
   "file_extension": ".py",
   "mimetype": "text/x-python",
   "name": "python",
   "nbconvert_exporter": "python",
   "pygments_lexer": "ipython3",
   "version": "3.11.4"
  }
 },
 "nbformat": 4,
 "nbformat_minor": 5
}
