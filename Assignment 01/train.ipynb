{
  "nbformat": 4,
  "nbformat_minor": 0,
  "metadata": {
    "colab": {
      "provenance": []
    },
    "kernelspec": {
      "name": "python3",
      "display_name": "Python 3"
    },
    "language_info": {
      "name": "python"
    }
  },
  "cells": [
    {
      "cell_type": "code",
      "execution_count": 1,
      "metadata": {
        "id": "m7BMW3HIAyYR"
      },
      "outputs": [],
      "source": [
        "import pandas as pd\n",
        "from sklearn.model_selection import train_test_split\n",
        "from sklearn.feature_extraction.text import TfidfVectorizer\n",
        "from sklearn.metrics import classification_report, confusion_matrix, roc_auc_score\n",
        "from imblearn.over_sampling import SMOTE\n",
        "from imblearn.under_sampling import RandomUnderSampler\n",
        "from imblearn.pipeline import Pipeline\n",
        "from sklearn.linear_model import LogisticRegression\n",
        "from sklearn.ensemble import RandomForestClassifier\n",
        "from sklearn.svm import SVC\n",
        "from sklearn.metrics import f1_score\n",
        "from sklearn.model_selection import GridSearchCV\n",
        "from sklearn.preprocessing import LabelEncoder\n",
        "from sklearn.metrics import ConfusionMatrixDisplay\n",
        "import matplotlib.pyplot as plt"
      ]
    },
    {
      "cell_type": "markdown",
      "source": [
        "## 1. Loading the datasets"
      ],
      "metadata": {
        "id": "mTaS3xkmBOkx"
      }
    },
    {
      "cell_type": "code",
      "source": [
        "train = pd.read_csv(\"/content/test.csv\")\n",
        "X_train, y_train = train['message'], train.label\n",
        "\n",
        "test = pd.read_csv(\"/content/test.csv\")\n",
        "X_test, y_test = test['message'], test.label\n",
        "\n",
        "val = pd.read_csv(\"/content/val.csv\")\n",
        "X_val, y_val = val['message'], val.label"
      ],
      "metadata": {
        "id": "FT6XsPLDBQ_V"
      },
      "execution_count": 2,
      "outputs": []
    },
    {
      "cell_type": "markdown",
      "source": [
        "### Vectorize the data"
      ],
      "metadata": {
        "id": "T8gKBHMQCq9_"
      }
    },
    {
      "cell_type": "code",
      "source": [
        "# Remove any nan value\n",
        "X_train = X_train.fillna(\"\")\n",
        "X_val = X_val.fillna(\"\")\n",
        "X_test = X_test.fillna(\"\")\n",
        "\n",
        "vectorizer = TfidfVectorizer(strip_accents='unicode')\n",
        "\n",
        "# Fit on training data and transform all sets\n",
        "X_train_vec = vectorizer.fit_transform(X_train.astype(str))\n",
        "X_val_vec = vectorizer.transform(X_val.astype(str))\n",
        "X_test_vec = vectorizer.transform(X_test.astype(str))"
      ],
      "metadata": {
        "id": "OBL6KNTAkM3K"
      },
      "execution_count": 4,
      "outputs": []
    },
    {
      "cell_type": "code",
      "source": [
        "encoder = LabelEncoder()\n",
        "y_train = encoder.fit_transform(y_train)\n",
        "y_val = encoder.transform(y_val)\n",
        "y_test = encoder.transform(y_test)\n"
      ],
      "metadata": {
        "id": "TFbUK1-WCqk4"
      },
      "execution_count": 6,
      "outputs": []
    },
    {
      "cell_type": "code",
      "source": [],
      "metadata": {
        "id": "QFDI7tN2wjp0"
      },
      "execution_count": null,
      "outputs": []
    },
    {
      "cell_type": "code",
      "source": [],
      "metadata": {
        "id": "_WpdQ7vkwjgC"
      },
      "execution_count": null,
      "outputs": []
    },
    {
      "cell_type": "markdown",
      "source": [
        "## Training three different base models"
      ],
      "metadata": {
        "id": "jtAre3yir8GY"
      }
    },
    {
      "cell_type": "code",
      "source": [
        "# Logistic regression\n",
        "lr_pipeline = Pipeline([('balance', SMOTE(random_state=42)),\n",
        "                        ('model', LogisticRegression(random_state=42))])\n",
        "lr_pipeline.fit(X_train_vec, y_train)\n",
        "lr_val_preds = lr_pipeline.predict(X_val_vec)\n",
        "lr_train_preds = lr_pipeline.predict(X_train_vec)\n",
        "\n",
        "print(\"Logistic Regression train Performance:\")\n",
        "print(classification_report(y_train, lr_train_preds))\n",
        "print('='*60)\n",
        "print(\"Logistic Regression Validation Performance:\")\n",
        "print(classification_report(y_val, lr_val_preds))"
      ],
      "metadata": {
        "colab": {
          "base_uri": "https://localhost:8080/"
        },
        "id": "KUyHyBIroycE",
        "outputId": "dec814bd-1cb4-48da-ec99-39dbf91b9f9e"
      },
      "execution_count": 7,
      "outputs": [
        {
          "output_type": "stream",
          "name": "stdout",
          "text": [
            "Logistic Regression train Performance:\n",
            "              precision    recall  f1-score   support\n",
            "\n",
            "           0       1.00      1.00      1.00       677\n",
            "           1       0.99      0.99      0.99        98\n",
            "\n",
            "    accuracy                           1.00       775\n",
            "   macro avg       0.99      0.99      0.99       775\n",
            "weighted avg       1.00      1.00      1.00       775\n",
            "\n",
            "============================================================\n",
            "Logistic Regression Validation Performance:\n",
            "              precision    recall  f1-score   support\n",
            "\n",
            "           0       0.98      0.99      0.98       677\n",
            "           1       0.89      0.83      0.86        98\n",
            "\n",
            "    accuracy                           0.97       775\n",
            "   macro avg       0.93      0.91      0.92       775\n",
            "weighted avg       0.96      0.97      0.96       775\n",
            "\n"
          ]
        }
      ]
    },
    {
      "cell_type": "code",
      "source": [
        "# Random Forest\n",
        "rf_pipeline = Pipeline([('balance', SMOTE(random_state=42)),\n",
        "                        ('model', RandomForestClassifier(random_state=42))])\n",
        "rf_pipeline.fit(X_train_vec, y_train)\n",
        "rf_val_preds = rf_pipeline.predict(X_val_vec)\n",
        "rf_train_preds = rf_pipeline.predict(X_train_vec)\n",
        "\n",
        "print(\"Random Forest train Performance:\")\n",
        "print(classification_report(y_train, rf_train_preds))\n",
        "print('='*60)\n",
        "print(\"Random Forest Validation Performance:\")\n",
        "print(classification_report(y_val, rf_val_preds))\n"
      ],
      "metadata": {
        "colab": {
          "base_uri": "https://localhost:8080/"
        },
        "id": "3zp4h2DaoyZu",
        "outputId": "6e7a0508-65aa-4942-c2de-8b3359d484b9"
      },
      "execution_count": 8,
      "outputs": [
        {
          "output_type": "stream",
          "name": "stdout",
          "text": [
            "Random Forest train Performance:\n",
            "              precision    recall  f1-score   support\n",
            "\n",
            "           0       1.00      1.00      1.00       677\n",
            "           1       1.00      1.00      1.00        98\n",
            "\n",
            "    accuracy                           1.00       775\n",
            "   macro avg       1.00      1.00      1.00       775\n",
            "weighted avg       1.00      1.00      1.00       775\n",
            "\n",
            "============================================================\n",
            "Random Forest Validation Performance:\n",
            "              precision    recall  f1-score   support\n",
            "\n",
            "           0       0.93      1.00      0.96       677\n",
            "           1       1.00      0.45      0.62        98\n",
            "\n",
            "    accuracy                           0.93       775\n",
            "   macro avg       0.96      0.72      0.79       775\n",
            "weighted avg       0.94      0.93      0.92       775\n",
            "\n"
          ]
        }
      ]
    },
    {
      "cell_type": "code",
      "source": [
        "# SVM\n",
        "svm_pipeline = Pipeline([('balance', SMOTE(random_state=42)),\n",
        "                         ('model', SVC(probability=True, random_state=42))])\n",
        "svm_pipeline.fit(X_train_vec, y_train)\n",
        "svm_val_preds = svm_pipeline.predict(X_val_vec)\n",
        "svm_train_preds = svm_pipeline.predict(X_train_vec)\n",
        "\n",
        "print(\"SVM train Performance:\")\n",
        "print(classification_report(y_train, svm_train_preds))\n",
        "print('='*60)\n",
        "print(\"SVM Validation Performance:\")\n",
        "print(classification_report(y_val, svm_val_preds))"
      ],
      "metadata": {
        "colab": {
          "base_uri": "https://localhost:8080/"
        },
        "id": "hsGeaFUPsG5X",
        "outputId": "96742986-09c6-45d4-ef2c-738dc5204b9b"
      },
      "execution_count": 9,
      "outputs": [
        {
          "output_type": "stream",
          "name": "stdout",
          "text": [
            "SVM train Performance:\n",
            "              precision    recall  f1-score   support\n",
            "\n",
            "           0       1.00      1.00      1.00       677\n",
            "           1       1.00      1.00      1.00        98\n",
            "\n",
            "    accuracy                           1.00       775\n",
            "   macro avg       1.00      1.00      1.00       775\n",
            "weighted avg       1.00      1.00      1.00       775\n",
            "\n",
            "============================================================\n",
            "SVM Validation Performance:\n",
            "              precision    recall  f1-score   support\n",
            "\n",
            "           0       0.93      1.00      0.97       677\n",
            "           1       0.98      0.51      0.67        98\n",
            "\n",
            "    accuracy                           0.94       775\n",
            "   macro avg       0.96      0.75      0.82       775\n",
            "weighted avg       0.94      0.94      0.93       775\n",
            "\n"
          ]
        }
      ]
    },
    {
      "cell_type": "code",
      "source": [],
      "metadata": {
        "id": "US20oTgssJUg"
      },
      "execution_count": null,
      "outputs": []
    },
    {
      "cell_type": "code",
      "source": [],
      "metadata": {
        "id": "CP9WOiEbs91E"
      },
      "execution_count": null,
      "outputs": []
    },
    {
      "cell_type": "markdown",
      "source": [
        "## Tuning the models"
      ],
      "metadata": {
        "id": "W5eC_MdUs-P9"
      }
    },
    {
      "cell_type": "code",
      "source": [
        "# Define hyperparameter grids\n",
        "param_grid_lr = {\n",
        "    'C': [0.01, 0.1, 1, 10, 100],\n",
        "    'penalty': ['l1', 'l2'],\n",
        "    'solver': ['liblinear']\n",
        "}\n",
        "\n",
        "param_grid_svm = {\n",
        "    'C': [0.1, 1, 10],\n",
        "    'kernel': ['linear', 'rbf'],\n",
        "    'gamma': ['scale', 'auto']\n",
        "}\n",
        "\n",
        "param_grid_rf = {\n",
        "    'n_estimators': [50, 100, 200],\n",
        "    'max_depth': [None, 10, 20],\n",
        "    'min_samples_split': [2, 5, 10],\n",
        "    'min_samples_leaf': [1, 2, 4]\n",
        "}\n"
      ],
      "metadata": {
        "id": "wQhdsgYus_w_"
      },
      "execution_count": 10,
      "outputs": []
    },
    {
      "cell_type": "code",
      "source": [
        "grid_svm = GridSearchCV(SVC(), param_grid_svm, scoring='f1', cv=5, verbose=1, n_jobs=-1)\n",
        "grid_svm.fit(X_val_vec, y_val)\n",
        "best_svm = grid_svm.best_estimator_\n",
        "print(\"Best SVM Parameters:\", grid_svm.best_params_)\n"
      ],
      "metadata": {
        "colab": {
          "base_uri": "https://localhost:8080/"
        },
        "id": "HhgNGGSjuJz_",
        "outputId": "c3d40659-ff0b-4da3-c1b4-513799b80d4a"
      },
      "execution_count": 11,
      "outputs": [
        {
          "output_type": "stream",
          "name": "stdout",
          "text": [
            "Fitting 5 folds for each of 12 candidates, totalling 60 fits\n",
            "Best SVM Parameters: {'C': 10, 'gamma': 'scale', 'kernel': 'linear'}\n"
          ]
        }
      ]
    },
    {
      "cell_type": "code",
      "source": [
        "grid_rf = GridSearchCV(RandomForestClassifier(), param_grid_rf, scoring='f1', cv=5, verbose=1, n_jobs=-1)\n",
        "grid_rf.fit(X_val_vec, y_val)\n",
        "best_rf = grid_rf.best_estimator_\n",
        "print(\"Best Random Forest Parameters:\", grid_rf.best_params_)\n"
      ],
      "metadata": {
        "colab": {
          "base_uri": "https://localhost:8080/"
        },
        "id": "RQmB99-cuJfe",
        "outputId": "2c42a488-0777-4cef-c237-c71b92ff6fdc"
      },
      "execution_count": 12,
      "outputs": [
        {
          "output_type": "stream",
          "name": "stdout",
          "text": [
            "Fitting 5 folds for each of 81 candidates, totalling 405 fits\n",
            "Best Random Forest Parameters: {'max_depth': None, 'min_samples_leaf': 1, 'min_samples_split': 5, 'n_estimators': 50}\n"
          ]
        }
      ]
    },
    {
      "cell_type": "code",
      "source": [
        "grid_lr = GridSearchCV(LogisticRegression(), param_grid_lr, scoring='f1', cv=5, verbose=1, n_jobs=-1)\n",
        "grid_lr.fit(X_val_vec, y_val)\n",
        "best_lr = grid_lr.best_estimator_\n",
        "print(\"Best Logistic Regression Parameters:\", grid_lr.best_params_)\n"
      ],
      "metadata": {
        "colab": {
          "base_uri": "https://localhost:8080/"
        },
        "id": "Qx1hbMlQuIix",
        "outputId": "c80039ea-9f32-4d7c-a727-d2a97ec02def"
      },
      "execution_count": 13,
      "outputs": [
        {
          "output_type": "stream",
          "name": "stdout",
          "text": [
            "Fitting 5 folds for each of 10 candidates, totalling 50 fits\n",
            "Best Logistic Regression Parameters: {'C': 100, 'penalty': 'l2', 'solver': 'liblinear'}\n"
          ]
        }
      ]
    },
    {
      "cell_type": "code",
      "source": [],
      "metadata": {
        "id": "MqZ4PYvZx0Y4"
      },
      "execution_count": null,
      "outputs": []
    },
    {
      "cell_type": "code",
      "source": [],
      "metadata": {
        "id": "0L1h_t63yLxq"
      },
      "execution_count": null,
      "outputs": []
    },
    {
      "cell_type": "markdown",
      "source": [
        "## Prediction on the validation and test set using tuned model"
      ],
      "metadata": {
        "id": "xYzIPJv97hzr"
      }
    },
    {
      "cell_type": "code",
      "source": [
        "# Get predictions on validation\n",
        "y_pred_lr = best_lr.predict(X_test_vec)\n",
        "y_pred_svm = best_svm.predict(X_test_vec)\n",
        "y_pred_rf = best_rf.predict(X_test_vec)\n"
      ],
      "metadata": {
        "id": "KRZqWlWRyMRM"
      },
      "execution_count": 14,
      "outputs": []
    },
    {
      "cell_type": "code",
      "source": [
        "# SVM model\n",
        "svm_val_preds = best_svm.predict(X_val_vec)\n",
        "\n",
        "print(\"Tuned SVM validation Performance:\")\n",
        "print(classification_report(y_train, svm_val_preds))\n",
        "print('='*60)\n",
        "print(\"Best SVM test Performance:\")\n",
        "print(classification_report(y_test, y_pred_svm))"
      ],
      "metadata": {
        "colab": {
          "base_uri": "https://localhost:8080/"
        },
        "id": "VNkmxwANyX8T",
        "outputId": "67df93e8-8a6a-4039-ccb8-a4be431a6e50"
      },
      "execution_count": 15,
      "outputs": [
        {
          "output_type": "stream",
          "name": "stdout",
          "text": [
            "Tuned SVM validation Performance:\n",
            "              precision    recall  f1-score   support\n",
            "\n",
            "           0       0.87      0.87      0.87       677\n",
            "           1       0.13      0.13      0.13        98\n",
            "\n",
            "    accuracy                           0.78       775\n",
            "   macro avg       0.50      0.50      0.50       775\n",
            "weighted avg       0.78      0.78      0.78       775\n",
            "\n",
            "============================================================\n",
            "Best SVM test Performance:\n",
            "              precision    recall  f1-score   support\n",
            "\n",
            "           0       0.97      1.00      0.98       677\n",
            "           1       0.97      0.78      0.86        98\n",
            "\n",
            "    accuracy                           0.97       775\n",
            "   macro avg       0.97      0.89      0.92       775\n",
            "weighted avg       0.97      0.97      0.97       775\n",
            "\n"
          ]
        }
      ]
    },
    {
      "cell_type": "code",
      "source": [
        "# Logistic Regression model\n",
        "lr_val_preds = best_lr.predict(X_val_vec)\n",
        "\n",
        "print(\"Tuned lr validation Performance:\")\n",
        "print(classification_report(y_train, lr_val_preds))\n",
        "print('='*60)\n",
        "print(\"Best lr test Performance:\")\n",
        "print(classification_report(y_test, y_pred_lr))"
      ],
      "metadata": {
        "colab": {
          "base_uri": "https://localhost:8080/"
        },
        "id": "R1avyx9t4jpn",
        "outputId": "4937b85f-8b17-4467-87ab-ac1a4745fc0f"
      },
      "execution_count": 16,
      "outputs": [
        {
          "output_type": "stream",
          "name": "stdout",
          "text": [
            "Tuned lr validation Performance:\n",
            "              precision    recall  f1-score   support\n",
            "\n",
            "           0       0.87      0.87      0.87       677\n",
            "           1       0.13      0.13      0.13        98\n",
            "\n",
            "    accuracy                           0.78       775\n",
            "   macro avg       0.50      0.50      0.50       775\n",
            "weighted avg       0.78      0.78      0.78       775\n",
            "\n",
            "============================================================\n",
            "Best lr test Performance:\n",
            "              precision    recall  f1-score   support\n",
            "\n",
            "           0       0.96      1.00      0.98       677\n",
            "           1       1.00      0.68      0.81        98\n",
            "\n",
            "    accuracy                           0.96       775\n",
            "   macro avg       0.98      0.84      0.89       775\n",
            "weighted avg       0.96      0.96      0.96       775\n",
            "\n"
          ]
        }
      ]
    },
    {
      "cell_type": "code",
      "source": [
        "# Random Forest model\n",
        "rf_val_preds = best_svm.predict(X_val_vec)\n",
        "\n",
        "print(\"Tuned RF validation Performance:\")\n",
        "print(classification_report(y_train, rf_val_preds))\n",
        "print('='*60)\n",
        "print(\"Best RF test Performance:\")\n",
        "print(classification_report(y_test, y_pred_rf))"
      ],
      "metadata": {
        "colab": {
          "base_uri": "https://localhost:8080/"
        },
        "id": "43YWH1gQ4jRQ",
        "outputId": "cdd7dfa8-4bae-433d-82b8-5ab2d07f377c"
      },
      "execution_count": 17,
      "outputs": [
        {
          "output_type": "stream",
          "name": "stdout",
          "text": [
            "Tuned RF validation Performance:\n",
            "              precision    recall  f1-score   support\n",
            "\n",
            "           0       0.87      0.87      0.87       677\n",
            "           1       0.13      0.13      0.13        98\n",
            "\n",
            "    accuracy                           0.78       775\n",
            "   macro avg       0.50      0.50      0.50       775\n",
            "weighted avg       0.78      0.78      0.78       775\n",
            "\n",
            "============================================================\n",
            "Best RF test Performance:\n",
            "              precision    recall  f1-score   support\n",
            "\n",
            "           0       0.95      1.00      0.97       677\n",
            "           1       1.00      0.64      0.78        98\n",
            "\n",
            "    accuracy                           0.95       775\n",
            "   macro avg       0.98      0.82      0.88       775\n",
            "weighted avg       0.96      0.95      0.95       775\n",
            "\n"
          ]
        }
      ]
    },
    {
      "cell_type": "code",
      "source": [],
      "metadata": {
        "id": "xiJbBZYc4jJK"
      },
      "execution_count": null,
      "outputs": []
    },
    {
      "cell_type": "code",
      "source": [],
      "metadata": {
        "id": "grFO2Orx7wPY"
      },
      "execution_count": null,
      "outputs": []
    },
    {
      "cell_type": "markdown",
      "source": [
        "### We see SVM model scores highest on our testing data"
      ],
      "metadata": {
        "id": "KyutTcgr7wbi"
      }
    },
    {
      "cell_type": "code",
      "source": [
        "ConfusionMatrixDisplay.from_estimator(best_svm, X_test_vec, y_test)\n",
        "plt.show()"
      ],
      "metadata": {
        "colab": {
          "base_uri": "https://localhost:8080/",
          "height": 449
        },
        "id": "oFV0idK28NOk",
        "outputId": "6a0dfa78-fe5c-4b03-da18-23d2c03b56ce"
      },
      "execution_count": 22,
      "outputs": [
        {
          "output_type": "display_data",
          "data": {
            "text/plain": [
              "<Figure size 640x480 with 2 Axes>"
            ],
            "image/png": "[encoded data removed]"
          },
          "metadata": {}
        }
      ]
    },
    {
      "cell_type": "code",
      "source": [],
      "metadata": {
        "id": "aGnyW3YU8NJH"
      },
      "execution_count": null,
      "outputs": []
    },
    {
      "cell_type": "code",
      "source": [],
      "metadata": {
        "id": "Kd6vuqwzRoq5"
      },
      "execution_count": null,
      "outputs": []
    },
    {
      "cell_type": "markdown",
      "source": [
        "## Conclusion\n",
        "As false positives are critical in spam detection (classifying a legitimate message as spam can lead to missed important communications), we prioritize models with high precision. After achieving satisfactory precision, we also consider recall to ensure that we are identifying a substantial number of actual spam messages"
      ],
      "metadata": {
        "id": "wI3WH4JqRo6d"
      }
    },
    {
      "cell_type": "code",
      "source": [],
      "metadata": {
        "id": "7xUvy0HNtxCA"
      },
      "execution_count": null,
      "outputs": []
    }
  ]
}